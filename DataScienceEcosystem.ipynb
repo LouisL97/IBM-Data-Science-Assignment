{
 "cells": [
  {
   "cell_type": "markdown",
   "id": "df58a18d-0022-4095-9404-b9070ac079b0",
   "metadata": {},
   "source": [
    "# Data Science Tools and Ecosystem"
   ]
  },
  {
   "cell_type": "markdown",
   "id": "fe7efedd-056e-453e-b46f-d4be159e0616",
   "metadata": {},
   "source": [
    "In this notebook, Data Science Tools and Ecosystem are summarized."
   ]
  },
  {
   "cell_type": "markdown",
   "id": "495c3251-9679-4a2b-9278-b82446f7cc5c",
   "metadata": {},
   "source": [
    "Some of the popular languages that Data Scientists use are:\n",
    "1. Python \n",
    "2. R\n",
    "3. SQL"
   ]
  },
  {
   "cell_type": "markdown",
   "id": "9c9b04b2-260b-4454-a884-e1240f4a747c",
   "metadata": {},
   "source": [
    "Some of the commonly used libraries used by Data Scientists include:\n",
    "1. Matplotlib\n",
    "2. Pandas\n",
    "3. TensorFlow\n",
    "4. Plotly\n"
   ]
  },
  {
   "cell_type": "markdown",
   "id": "5859d390-5ece-46d5-a7bc-16e825b79058",
   "metadata": {},
   "source": [
    "|Data Science Tools|\n",
    "| --- |\n",
    "| RStudio |\n",
    "| Git |\n",
    "| Jupyter Notebook |"
   ]
  },
  {
   "cell_type": "markdown",
   "id": "ad9fcb1a-9b27-4660-bcac-6fac9d49fc7b",
   "metadata": {},
   "source": [
    "### Below are a few examples of evaluating arithmetic expressions in Python"
   ]
  },
  {
   "cell_type": "code",
   "execution_count": 3,
   "id": "c49e7f0c-b55f-484e-8bb8-62385ea47a1d",
   "metadata": {},
   "outputs": [
    {
     "data": {
      "text/plain": [
       "17"
      ]
     },
     "execution_count": 3,
     "metadata": {},
     "output_type": "execute_result"
    }
   ],
   "source": [
    "#This a simple arithmetic expression to mutiply then add integers\n",
    "(3*4)+5"
   ]
  },
  {
   "cell_type": "code",
   "execution_count": 1,
   "id": "05d28674-c395-465d-b72f-5917d4c18559",
   "metadata": {},
   "outputs": [
    {
     "data": {
      "text/plain": [
       "3.3333333333333335"
      ]
     },
     "execution_count": 1,
     "metadata": {},
     "output_type": "execute_result"
    }
   ],
   "source": [
    "#This will convert 200 minutes to hours by diving by 60\n",
    "200/60"
   ]
  },
  {
   "cell_type": "markdown",
   "id": "7dc0f24b-6d0e-467d-bc9c-5bee105a6efc",
   "metadata": {},
   "source": [
    "<b> Objectives: <b> \n",
    "1. List popular languages for Data Science\n",
    "2. List commonly used libraries used by Data Scientists\n",
    "3. List Data Science Tools\n",
    "4. Evaluating arithmetic expressions in Python\n",
    "   "
   ]
  },
  {
   "cell_type": "markdown",
   "id": "3089da60-f574-412a-8c64-7e0e38e24a45",
   "metadata": {},
   "source": [
    "## Author\n",
    "Louis Luther"
   ]
  }
 ],
 "metadata": {
  "kernelspec": {
   "display_name": "Python 3 (ipykernel)",
   "language": "python",
   "name": "python3"
  },
  "language_info": {
   "codemirror_mode": {
    "name": "ipython",
    "version": 3
   },
   "file_extension": ".py",
   "mimetype": "text/x-python",
   "name": "python",
   "nbconvert_exporter": "python",
   "pygments_lexer": "ipython3",
   "version": "3.11.7"
  }
 },
 "nbformat": 4,
 "nbformat_minor": 5
}
